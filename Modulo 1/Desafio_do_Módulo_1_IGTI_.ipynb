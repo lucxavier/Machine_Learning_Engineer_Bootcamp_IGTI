{
  "nbformat": 4,
  "nbformat_minor": 0,
  "metadata": {
    "colab": {
      "name": "Desafio do Módulo 1 - IGTI .ipynb",
      "provenance": [],
      "collapsed_sections": []
    },
    "kernelspec": {
      "name": "python3",
      "display_name": "Python 3"
    },
    "language_info": {
      "name": "python"
    }
  },
  "cells": [
    {
      "cell_type": "code",
      "metadata": {
        "id": "Tx9y-w-NUukN"
      },
      "source": [
        "import pandas as pd\n",
        "import seaborn as sn \n",
        "import matplotlib.pyplot as plt\n",
        "from scipy import stats as sts\n",
        "from sklearn.preprocessing import MinMaxScaler  #biblioteca utilizada para realizar o preprocessamento dos dados\n",
        "from sklearn.model_selection import train_test_split   # função que realiza a divisão do dataset\n",
        "from sklearn.neighbors import KNeighborsClassifier #KNN\n",
        "from sklearn.preprocessing import StandardScaler\n",
        "from sklearn.metrics import classification_report, confusion_matrix\n",
        "from mlxtend.plotting import plot_confusion_matrix\n",
        "from sklearn.tree import DecisionTreeClassifier # importa o classificador árvore de decisão\n",
        "from sklearn import metrics #importa as métricas para avaliação\n",
        "from mlxtend.plotting import plot_confusion_matrix\n",
        "from sklearn.ensemble import RandomForestClassifier\n",
        "from sklearn.svm import SVC\n",
        "from sklearn.neural_network import MLPClassifier"
      ],
      "execution_count": null,
      "outputs": []
    },
    {
      "cell_type": "code",
      "metadata": {
        "id": "PBKHuLJaUxjk"
      },
      "source": [
        "df = pd.read_csv('winequality-red.csv', sep=';')"
      ],
      "execution_count": null,
      "outputs": []
    },
    {
      "cell_type": "code",
      "metadata": {
        "colab": {
          "base_uri": "https://localhost:8080/",
          "height": 221
        },
        "id": "XkD_Ex9UU9pR",
        "outputId": "57405c59-4335-4ab0-f389-74fbd136fd0e"
      },
      "source": [
        "df.head()"
      ],
      "execution_count": null,
      "outputs": [
        {
          "output_type": "execute_result",
          "data": {
            "text/html": [
              "<div>\n",
              "<style scoped>\n",
              "    .dataframe tbody tr th:only-of-type {\n",
              "        vertical-align: middle;\n",
              "    }\n",
              "\n",
              "    .dataframe tbody tr th {\n",
              "        vertical-align: top;\n",
              "    }\n",
              "\n",
              "    .dataframe thead th {\n",
              "        text-align: right;\n",
              "    }\n",
              "</style>\n",
              "<table border=\"1\" class=\"dataframe\">\n",
              "  <thead>\n",
              "    <tr style=\"text-align: right;\">\n",
              "      <th></th>\n",
              "      <th>fixed acidity</th>\n",
              "      <th>volatile acidity</th>\n",
              "      <th>citric acid</th>\n",
              "      <th>residual sugar</th>\n",
              "      <th>chlorides</th>\n",
              "      <th>free sulfur dioxide</th>\n",
              "      <th>total sulfur dioxide</th>\n",
              "      <th>density</th>\n",
              "      <th>pH</th>\n",
              "      <th>sulphates</th>\n",
              "      <th>alcohol</th>\n",
              "      <th>quality</th>\n",
              "    </tr>\n",
              "  </thead>\n",
              "  <tbody>\n",
              "    <tr>\n",
              "      <th>0</th>\n",
              "      <td>7.4</td>\n",
              "      <td>0.70</td>\n",
              "      <td>0.00</td>\n",
              "      <td>1.9</td>\n",
              "      <td>0.076</td>\n",
              "      <td>11.0</td>\n",
              "      <td>34.0</td>\n",
              "      <td>0.9978</td>\n",
              "      <td>3.51</td>\n",
              "      <td>0.56</td>\n",
              "      <td>9.4</td>\n",
              "      <td>5</td>\n",
              "    </tr>\n",
              "    <tr>\n",
              "      <th>1</th>\n",
              "      <td>7.8</td>\n",
              "      <td>0.88</td>\n",
              "      <td>0.00</td>\n",
              "      <td>2.6</td>\n",
              "      <td>0.098</td>\n",
              "      <td>25.0</td>\n",
              "      <td>67.0</td>\n",
              "      <td>0.9968</td>\n",
              "      <td>3.20</td>\n",
              "      <td>0.68</td>\n",
              "      <td>9.8</td>\n",
              "      <td>5</td>\n",
              "    </tr>\n",
              "    <tr>\n",
              "      <th>2</th>\n",
              "      <td>7.8</td>\n",
              "      <td>0.76</td>\n",
              "      <td>0.04</td>\n",
              "      <td>2.3</td>\n",
              "      <td>0.092</td>\n",
              "      <td>15.0</td>\n",
              "      <td>54.0</td>\n",
              "      <td>0.9970</td>\n",
              "      <td>3.26</td>\n",
              "      <td>0.65</td>\n",
              "      <td>9.8</td>\n",
              "      <td>5</td>\n",
              "    </tr>\n",
              "    <tr>\n",
              "      <th>3</th>\n",
              "      <td>11.2</td>\n",
              "      <td>0.28</td>\n",
              "      <td>0.56</td>\n",
              "      <td>1.9</td>\n",
              "      <td>0.075</td>\n",
              "      <td>17.0</td>\n",
              "      <td>60.0</td>\n",
              "      <td>0.9980</td>\n",
              "      <td>3.16</td>\n",
              "      <td>0.58</td>\n",
              "      <td>9.8</td>\n",
              "      <td>6</td>\n",
              "    </tr>\n",
              "    <tr>\n",
              "      <th>4</th>\n",
              "      <td>7.4</td>\n",
              "      <td>0.70</td>\n",
              "      <td>0.00</td>\n",
              "      <td>1.9</td>\n",
              "      <td>0.076</td>\n",
              "      <td>11.0</td>\n",
              "      <td>34.0</td>\n",
              "      <td>0.9978</td>\n",
              "      <td>3.51</td>\n",
              "      <td>0.56</td>\n",
              "      <td>9.4</td>\n",
              "      <td>5</td>\n",
              "    </tr>\n",
              "  </tbody>\n",
              "</table>\n",
              "</div>"
            ],
            "text/plain": [
              "   fixed acidity  volatile acidity  citric acid  ...  sulphates  alcohol  quality\n",
              "0            7.4              0.70         0.00  ...       0.56      9.4        5\n",
              "1            7.8              0.88         0.00  ...       0.68      9.8        5\n",
              "2            7.8              0.76         0.04  ...       0.65      9.8        5\n",
              "3           11.2              0.28         0.56  ...       0.58      9.8        6\n",
              "4            7.4              0.70         0.00  ...       0.56      9.4        5\n",
              "\n",
              "[5 rows x 12 columns]"
            ]
          },
          "metadata": {
            "tags": []
          },
          "execution_count": 5
        }
      ]
    },
    {
      "cell_type": "code",
      "metadata": {
        "colab": {
          "base_uri": "https://localhost:8080/"
        },
        "id": "s-QK8THZU_bw",
        "outputId": "61974e15-62fc-4ed9-cfcc-dcfb4c401b6c"
      },
      "source": [
        "df.info()"
      ],
      "execution_count": null,
      "outputs": [
        {
          "output_type": "stream",
          "text": [
            "<class 'pandas.core.frame.DataFrame'>\n",
            "RangeIndex: 1599 entries, 0 to 1598\n",
            "Data columns (total 12 columns):\n",
            " #   Column                Non-Null Count  Dtype  \n",
            "---  ------                --------------  -----  \n",
            " 0   fixed acidity         1599 non-null   float64\n",
            " 1   volatile acidity      1599 non-null   float64\n",
            " 2   citric acid           1599 non-null   float64\n",
            " 3   residual sugar        1599 non-null   float64\n",
            " 4   chlorides             1599 non-null   float64\n",
            " 5   free sulfur dioxide   1599 non-null   float64\n",
            " 6   total sulfur dioxide  1599 non-null   float64\n",
            " 7   density               1599 non-null   float64\n",
            " 8   pH                    1599 non-null   float64\n",
            " 9   sulphates             1599 non-null   float64\n",
            " 10  alcohol               1599 non-null   float64\n",
            " 11  quality               1599 non-null   int64  \n",
            "dtypes: float64(11), int64(1)\n",
            "memory usage: 150.0 KB\n"
          ],
          "name": "stdout"
        }
      ]
    },
    {
      "cell_type": "code",
      "metadata": {
        "colab": {
          "base_uri": "https://localhost:8080/",
          "height": 351
        },
        "id": "ibzrogVsVELh",
        "outputId": "6e45b087-0bb7-4b53-cae7-a1d08a10927d"
      },
      "source": [
        "df.describe()"
      ],
      "execution_count": null,
      "outputs": [
        {
          "output_type": "execute_result",
          "data": {
            "text/html": [
              "<div>\n",
              "<style scoped>\n",
              "    .dataframe tbody tr th:only-of-type {\n",
              "        vertical-align: middle;\n",
              "    }\n",
              "\n",
              "    .dataframe tbody tr th {\n",
              "        vertical-align: top;\n",
              "    }\n",
              "\n",
              "    .dataframe thead th {\n",
              "        text-align: right;\n",
              "    }\n",
              "</style>\n",
              "<table border=\"1\" class=\"dataframe\">\n",
              "  <thead>\n",
              "    <tr style=\"text-align: right;\">\n",
              "      <th></th>\n",
              "      <th>fixed acidity</th>\n",
              "      <th>volatile acidity</th>\n",
              "      <th>citric acid</th>\n",
              "      <th>residual sugar</th>\n",
              "      <th>chlorides</th>\n",
              "      <th>free sulfur dioxide</th>\n",
              "      <th>total sulfur dioxide</th>\n",
              "      <th>density</th>\n",
              "      <th>pH</th>\n",
              "      <th>sulphates</th>\n",
              "      <th>alcohol</th>\n",
              "      <th>quality</th>\n",
              "    </tr>\n",
              "  </thead>\n",
              "  <tbody>\n",
              "    <tr>\n",
              "      <th>count</th>\n",
              "      <td>1599.000000</td>\n",
              "      <td>1599.000000</td>\n",
              "      <td>1599.000000</td>\n",
              "      <td>1599.000000</td>\n",
              "      <td>1599.000000</td>\n",
              "      <td>1599.000000</td>\n",
              "      <td>1599.000000</td>\n",
              "      <td>1599.000000</td>\n",
              "      <td>1599.000000</td>\n",
              "      <td>1599.000000</td>\n",
              "      <td>1599.000000</td>\n",
              "      <td>1599.000000</td>\n",
              "    </tr>\n",
              "    <tr>\n",
              "      <th>mean</th>\n",
              "      <td>8.319637</td>\n",
              "      <td>0.527821</td>\n",
              "      <td>0.270976</td>\n",
              "      <td>2.538806</td>\n",
              "      <td>0.087467</td>\n",
              "      <td>15.874922</td>\n",
              "      <td>46.467792</td>\n",
              "      <td>0.996747</td>\n",
              "      <td>3.311113</td>\n",
              "      <td>0.658149</td>\n",
              "      <td>10.422983</td>\n",
              "      <td>5.636023</td>\n",
              "    </tr>\n",
              "    <tr>\n",
              "      <th>std</th>\n",
              "      <td>1.741096</td>\n",
              "      <td>0.179060</td>\n",
              "      <td>0.194801</td>\n",
              "      <td>1.409928</td>\n",
              "      <td>0.047065</td>\n",
              "      <td>10.460157</td>\n",
              "      <td>32.895324</td>\n",
              "      <td>0.001887</td>\n",
              "      <td>0.154386</td>\n",
              "      <td>0.169507</td>\n",
              "      <td>1.065668</td>\n",
              "      <td>0.807569</td>\n",
              "    </tr>\n",
              "    <tr>\n",
              "      <th>min</th>\n",
              "      <td>4.600000</td>\n",
              "      <td>0.120000</td>\n",
              "      <td>0.000000</td>\n",
              "      <td>0.900000</td>\n",
              "      <td>0.012000</td>\n",
              "      <td>1.000000</td>\n",
              "      <td>6.000000</td>\n",
              "      <td>0.990070</td>\n",
              "      <td>2.740000</td>\n",
              "      <td>0.330000</td>\n",
              "      <td>8.400000</td>\n",
              "      <td>3.000000</td>\n",
              "    </tr>\n",
              "    <tr>\n",
              "      <th>25%</th>\n",
              "      <td>7.100000</td>\n",
              "      <td>0.390000</td>\n",
              "      <td>0.090000</td>\n",
              "      <td>1.900000</td>\n",
              "      <td>0.070000</td>\n",
              "      <td>7.000000</td>\n",
              "      <td>22.000000</td>\n",
              "      <td>0.995600</td>\n",
              "      <td>3.210000</td>\n",
              "      <td>0.550000</td>\n",
              "      <td>9.500000</td>\n",
              "      <td>5.000000</td>\n",
              "    </tr>\n",
              "    <tr>\n",
              "      <th>50%</th>\n",
              "      <td>7.900000</td>\n",
              "      <td>0.520000</td>\n",
              "      <td>0.260000</td>\n",
              "      <td>2.200000</td>\n",
              "      <td>0.079000</td>\n",
              "      <td>14.000000</td>\n",
              "      <td>38.000000</td>\n",
              "      <td>0.996750</td>\n",
              "      <td>3.310000</td>\n",
              "      <td>0.620000</td>\n",
              "      <td>10.200000</td>\n",
              "      <td>6.000000</td>\n",
              "    </tr>\n",
              "    <tr>\n",
              "      <th>75%</th>\n",
              "      <td>9.200000</td>\n",
              "      <td>0.640000</td>\n",
              "      <td>0.420000</td>\n",
              "      <td>2.600000</td>\n",
              "      <td>0.090000</td>\n",
              "      <td>21.000000</td>\n",
              "      <td>62.000000</td>\n",
              "      <td>0.997835</td>\n",
              "      <td>3.400000</td>\n",
              "      <td>0.730000</td>\n",
              "      <td>11.100000</td>\n",
              "      <td>6.000000</td>\n",
              "    </tr>\n",
              "    <tr>\n",
              "      <th>max</th>\n",
              "      <td>15.900000</td>\n",
              "      <td>1.580000</td>\n",
              "      <td>1.000000</td>\n",
              "      <td>15.500000</td>\n",
              "      <td>0.611000</td>\n",
              "      <td>72.000000</td>\n",
              "      <td>289.000000</td>\n",
              "      <td>1.003690</td>\n",
              "      <td>4.010000</td>\n",
              "      <td>2.000000</td>\n",
              "      <td>14.900000</td>\n",
              "      <td>8.000000</td>\n",
              "    </tr>\n",
              "  </tbody>\n",
              "</table>\n",
              "</div>"
            ],
            "text/plain": [
              "       fixed acidity  volatile acidity  ...      alcohol      quality\n",
              "count    1599.000000       1599.000000  ...  1599.000000  1599.000000\n",
              "mean        8.319637          0.527821  ...    10.422983     5.636023\n",
              "std         1.741096          0.179060  ...     1.065668     0.807569\n",
              "min         4.600000          0.120000  ...     8.400000     3.000000\n",
              "25%         7.100000          0.390000  ...     9.500000     5.000000\n",
              "50%         7.900000          0.520000  ...    10.200000     6.000000\n",
              "75%         9.200000          0.640000  ...    11.100000     6.000000\n",
              "max        15.900000          1.580000  ...    14.900000     8.000000\n",
              "\n",
              "[8 rows x 12 columns]"
            ]
          },
          "metadata": {
            "tags": []
          },
          "execution_count": 8
        }
      ]
    },
    {
      "cell_type": "markdown",
      "metadata": {
        "id": "5OX8-OWjVTOz"
      },
      "source": [
        "**No dataset utilizado para o desafio, quantas instâncias e atributos existem, respectivamente?**\n",
        "\n",
        "R: 12 atributos 1599 instância"
      ]
    },
    {
      "cell_type": "markdown",
      "metadata": {
        "id": "F82rCt10Vlri"
      },
      "source": [
        "**Quantos tipos diferentes de dados existem no dataset do desafio?**\n",
        "\n",
        "R: Duas (int e float)"
      ]
    },
    {
      "cell_type": "markdown",
      "metadata": {
        "id": "cBk6zaBbV0Zv"
      },
      "source": [
        "**Qual é a proporção (em %) de valores nulos existente na coluna \"residual sugar\" (resíduo de açúcar)?**\n",
        "\n",
        "R: São 0%, porque não temos valores nulos no data set"
      ]
    },
    {
      "cell_type": "code",
      "metadata": {
        "colab": {
          "base_uri": "https://localhost:8080/"
        },
        "id": "5R-AEr9NVIM_",
        "outputId": "70076c25-1572-400a-810f-b6e64f5f905b"
      },
      "source": [
        "df['fixed acidity'].describe()"
      ],
      "execution_count": null,
      "outputs": [
        {
          "output_type": "execute_result",
          "data": {
            "text/plain": [
              "count    1599.000000\n",
              "mean        8.319637\n",
              "std         1.741096\n",
              "min         4.600000\n",
              "25%         7.100000\n",
              "50%         7.900000\n",
              "75%         9.200000\n",
              "max        15.900000\n",
              "Name: fixed acidity, dtype: float64"
            ]
          },
          "metadata": {
            "tags": []
          },
          "execution_count": 9
        }
      ]
    },
    {
      "cell_type": "markdown",
      "metadata": {
        "id": "VZ05rFN4Wo7G"
      },
      "source": [
        "**Qual é o desvio padrão para a variável \"fixed acidity\"?**\n",
        "\n",
        "R: O Desvio padrão (std) é de 1.74"
      ]
    },
    {
      "cell_type": "code",
      "metadata": {
        "colab": {
          "base_uri": "https://localhost:8080/"
        },
        "id": "KadULnxOWkGU",
        "outputId": "2e9f2880-da0c-44bc-a342-36863c7aaac3"
      },
      "source": [
        "df['residual sugar'].median()"
      ],
      "execution_count": null,
      "outputs": [
        {
          "output_type": "execute_result",
          "data": {
            "text/plain": [
              "2.2"
            ]
          },
          "metadata": {
            "tags": []
          },
          "execution_count": 11
        }
      ]
    },
    {
      "cell_type": "markdown",
      "metadata": {
        "id": "kR7IgtYoXJIN"
      },
      "source": [
        "**Qual é a mediana para a variável \"residual sugar\"?**\n",
        "\n",
        "R: A mediana(50%) é 2.2"
      ]
    },
    {
      "cell_type": "code",
      "metadata": {
        "colab": {
          "base_uri": "https://localhost:8080/"
        },
        "id": "KRwj2NgPXFBD",
        "outputId": "77b24d2c-2e6e-4758-81ed-1ee4023dd017"
      },
      "source": [
        "x = df['fixed acidity']\n",
        "y = df['pH']\n",
        "sts.pearsonr(x, y)"
      ],
      "execution_count": null,
      "outputs": [
        {
          "output_type": "execute_result",
          "data": {
            "text/plain": [
              "(-0.6829781945685314, 4.063034039847446e-220)"
            ]
          },
          "metadata": {
            "tags": []
          },
          "execution_count": 15
        }
      ]
    },
    {
      "cell_type": "markdown",
      "metadata": {
        "id": "zE0o-TLcYqAA"
      },
      "source": [
        "**Sobre o coeficiente de correlação de Pearson entre as variáveis \"fixed acidity\" e \"pH\", é CORRETO afirmar:**\n",
        "\n",
        "R: O coeficiente de Person é de -0,68\n",
        "\n",
        "Existe uma correlação negativa. Quanto maior o \"fixed acidity, menor é o \"pH\"."
      ]
    },
    {
      "cell_type": "code",
      "metadata": {
        "colab": {
          "base_uri": "https://localhost:8080/"
        },
        "id": "qxrXxeidYecF",
        "outputId": "d60ac398-0d7a-41b8-d477-faf9d7cd1079"
      },
      "source": [
        "x = df['quality']\n",
        "y = df['alcohol']\n",
        "sts.pearsonr(x, y)"
      ],
      "execution_count": null,
      "outputs": [
        {
          "output_type": "execute_result",
          "data": {
            "text/plain": [
              "(0.4761663240011362, 2.831476974777616e-91)"
            ]
          },
          "metadata": {
            "tags": []
          },
          "execution_count": 16
        }
      ]
    },
    {
      "cell_type": "markdown",
      "metadata": {
        "id": "kqJKUCF1Zhir"
      },
      "source": [
        "**Sobre o coeficiente de correlação de Pearson entre as variáveis \"quality\" e \"alcohol\", mesmo sendo reduzido, é CORRETO dizer:**\n",
        "\n",
        "R: O coeficiente de Person é de 0.47\n",
        "\n",
        "Não é possível dizer nada sobre a correlação entre as variáveis."
      ]
    },
    {
      "cell_type": "code",
      "metadata": {
        "colab": {
          "base_uri": "https://localhost:8080/",
          "height": 788
        },
        "id": "ipfX8eVKZeMc",
        "outputId": "c9249454-b286-4454-fdff-a0b74938e311"
      },
      "source": [
        "#realizando o plot da matriz de correlação\n",
        "plt.figure(figsize=(10, 12))\n",
        "matriz_de_corr = df.corr()  #construindo a matriz de correlação\n",
        "sn.heatmap(matriz_de_corr, annot=True, vmin=-1, vmax=1, center= 0)  #plotando a matriz de correlação com o seaborn\n",
        "plt.show()"
      ],
      "execution_count": null,
      "outputs": [
        {
          "output_type": "display_data",
          "data": {
            "image/png": "[encoded data removed]",
            "text/plain": [
              "<Figure size 720x864 with 2 Axes>"
            ]
          },
          "metadata": {
            "tags": [],
            "needs_background": "light"
          }
        }
      ]
    },
    {
      "cell_type": "code",
      "metadata": {
        "colab": {
          "base_uri": "https://localhost:8080/"
        },
        "id": "tEgQYa87bikz",
        "outputId": "702b3922-cd3e-4c07-9353-4b0b685689f5"
      },
      "source": [
        "df['quality'].value_counts()"
      ],
      "execution_count": null,
      "outputs": [
        {
          "output_type": "execute_result",
          "data": {
            "text/plain": [
              "5    681\n",
              "6    638\n",
              "7    199\n",
              "4     53\n",
              "8     18\n",
              "3     10\n",
              "Name: quality, dtype: int64"
            ]
          },
          "metadata": {
            "tags": []
          },
          "execution_count": 19
        }
      ]
    },
    {
      "cell_type": "markdown",
      "metadata": {
        "id": "SOnaYNVQb99q"
      },
      "source": [
        "**Quantas instâncias existem para a qualidade do vinho igual a 5?**\n",
        "R: 681"
      ]
    },
    {
      "cell_type": "code",
      "metadata": {
        "id": "4RAqPlfkfvPe"
      },
      "source": [
        "scaler = MinMaxScaler() \n",
        "scaler_df = df # cópia do dataframe\n",
        "scaler_df = pd.DataFrame(scaler.fit_transform(scaler_df.values), columns=scaler_df.columns, index=scaler_df.index)"
      ],
      "execution_count": null,
      "outputs": []
    },
    {
      "cell_type": "code",
      "metadata": {
        "colab": {
          "base_uri": "https://localhost:8080/",
          "height": 436
        },
        "id": "lMVnORNOfztD",
        "outputId": "a4e50a6f-0252-41a4-85d4-3694f048e76f"
      },
      "source": [
        "scaler_df"
      ],
      "execution_count": null,
      "outputs": [
        {
          "output_type": "execute_result",
          "data": {
            "text/html": [
              "<div>\n",
              "<style scoped>\n",
              "    .dataframe tbody tr th:only-of-type {\n",
              "        vertical-align: middle;\n",
              "    }\n",
              "\n",
              "    .dataframe tbody tr th {\n",
              "        vertical-align: top;\n",
              "    }\n",
              "\n",
              "    .dataframe thead th {\n",
              "        text-align: right;\n",
              "    }\n",
              "</style>\n",
              "<table border=\"1\" class=\"dataframe\">\n",
              "  <thead>\n",
              "    <tr style=\"text-align: right;\">\n",
              "      <th></th>\n",
              "      <th>fixed acidity</th>\n",
              "      <th>volatile acidity</th>\n",
              "      <th>citric acid</th>\n",
              "      <th>residual sugar</th>\n",
              "      <th>chlorides</th>\n",
              "      <th>free sulfur dioxide</th>\n",
              "      <th>total sulfur dioxide</th>\n",
              "      <th>density</th>\n",
              "      <th>pH</th>\n",
              "      <th>sulphates</th>\n",
              "      <th>alcohol</th>\n",
              "      <th>quality</th>\n",
              "    </tr>\n",
              "  </thead>\n",
              "  <tbody>\n",
              "    <tr>\n",
              "      <th>0</th>\n",
              "      <td>0.247788</td>\n",
              "      <td>0.397260</td>\n",
              "      <td>0.00</td>\n",
              "      <td>0.068493</td>\n",
              "      <td>0.106845</td>\n",
              "      <td>0.140845</td>\n",
              "      <td>0.098940</td>\n",
              "      <td>0.567548</td>\n",
              "      <td>0.606299</td>\n",
              "      <td>0.137725</td>\n",
              "      <td>0.153846</td>\n",
              "      <td>0.4</td>\n",
              "    </tr>\n",
              "    <tr>\n",
              "      <th>1</th>\n",
              "      <td>0.283186</td>\n",
              "      <td>0.520548</td>\n",
              "      <td>0.00</td>\n",
              "      <td>0.116438</td>\n",
              "      <td>0.143573</td>\n",
              "      <td>0.338028</td>\n",
              "      <td>0.215548</td>\n",
              "      <td>0.494126</td>\n",
              "      <td>0.362205</td>\n",
              "      <td>0.209581</td>\n",
              "      <td>0.215385</td>\n",
              "      <td>0.4</td>\n",
              "    </tr>\n",
              "    <tr>\n",
              "      <th>2</th>\n",
              "      <td>0.283186</td>\n",
              "      <td>0.438356</td>\n",
              "      <td>0.04</td>\n",
              "      <td>0.095890</td>\n",
              "      <td>0.133556</td>\n",
              "      <td>0.197183</td>\n",
              "      <td>0.169611</td>\n",
              "      <td>0.508811</td>\n",
              "      <td>0.409449</td>\n",
              "      <td>0.191617</td>\n",
              "      <td>0.215385</td>\n",
              "      <td>0.4</td>\n",
              "    </tr>\n",
              "    <tr>\n",
              "      <th>3</th>\n",
              "      <td>0.584071</td>\n",
              "      <td>0.109589</td>\n",
              "      <td>0.56</td>\n",
              "      <td>0.068493</td>\n",
              "      <td>0.105175</td>\n",
              "      <td>0.225352</td>\n",
              "      <td>0.190813</td>\n",
              "      <td>0.582232</td>\n",
              "      <td>0.330709</td>\n",
              "      <td>0.149701</td>\n",
              "      <td>0.215385</td>\n",
              "      <td>0.6</td>\n",
              "    </tr>\n",
              "    <tr>\n",
              "      <th>4</th>\n",
              "      <td>0.247788</td>\n",
              "      <td>0.397260</td>\n",
              "      <td>0.00</td>\n",
              "      <td>0.068493</td>\n",
              "      <td>0.106845</td>\n",
              "      <td>0.140845</td>\n",
              "      <td>0.098940</td>\n",
              "      <td>0.567548</td>\n",
              "      <td>0.606299</td>\n",
              "      <td>0.137725</td>\n",
              "      <td>0.153846</td>\n",
              "      <td>0.4</td>\n",
              "    </tr>\n",
              "    <tr>\n",
              "      <th>...</th>\n",
              "      <td>...</td>\n",
              "      <td>...</td>\n",
              "      <td>...</td>\n",
              "      <td>...</td>\n",
              "      <td>...</td>\n",
              "      <td>...</td>\n",
              "      <td>...</td>\n",
              "      <td>...</td>\n",
              "      <td>...</td>\n",
              "      <td>...</td>\n",
              "      <td>...</td>\n",
              "      <td>...</td>\n",
              "    </tr>\n",
              "    <tr>\n",
              "      <th>1594</th>\n",
              "      <td>0.141593</td>\n",
              "      <td>0.328767</td>\n",
              "      <td>0.08</td>\n",
              "      <td>0.075342</td>\n",
              "      <td>0.130217</td>\n",
              "      <td>0.436620</td>\n",
              "      <td>0.134276</td>\n",
              "      <td>0.354626</td>\n",
              "      <td>0.559055</td>\n",
              "      <td>0.149701</td>\n",
              "      <td>0.323077</td>\n",
              "      <td>0.4</td>\n",
              "    </tr>\n",
              "    <tr>\n",
              "      <th>1595</th>\n",
              "      <td>0.115044</td>\n",
              "      <td>0.294521</td>\n",
              "      <td>0.10</td>\n",
              "      <td>0.089041</td>\n",
              "      <td>0.083472</td>\n",
              "      <td>0.535211</td>\n",
              "      <td>0.159011</td>\n",
              "      <td>0.370778</td>\n",
              "      <td>0.614173</td>\n",
              "      <td>0.257485</td>\n",
              "      <td>0.430769</td>\n",
              "      <td>0.6</td>\n",
              "    </tr>\n",
              "    <tr>\n",
              "      <th>1596</th>\n",
              "      <td>0.150442</td>\n",
              "      <td>0.267123</td>\n",
              "      <td>0.13</td>\n",
              "      <td>0.095890</td>\n",
              "      <td>0.106845</td>\n",
              "      <td>0.394366</td>\n",
              "      <td>0.120141</td>\n",
              "      <td>0.416300</td>\n",
              "      <td>0.535433</td>\n",
              "      <td>0.251497</td>\n",
              "      <td>0.400000</td>\n",
              "      <td>0.6</td>\n",
              "    </tr>\n",
              "    <tr>\n",
              "      <th>1597</th>\n",
              "      <td>0.115044</td>\n",
              "      <td>0.359589</td>\n",
              "      <td>0.12</td>\n",
              "      <td>0.075342</td>\n",
              "      <td>0.105175</td>\n",
              "      <td>0.436620</td>\n",
              "      <td>0.134276</td>\n",
              "      <td>0.396476</td>\n",
              "      <td>0.653543</td>\n",
              "      <td>0.227545</td>\n",
              "      <td>0.276923</td>\n",
              "      <td>0.4</td>\n",
              "    </tr>\n",
              "    <tr>\n",
              "      <th>1598</th>\n",
              "      <td>0.123894</td>\n",
              "      <td>0.130137</td>\n",
              "      <td>0.47</td>\n",
              "      <td>0.184932</td>\n",
              "      <td>0.091820</td>\n",
              "      <td>0.239437</td>\n",
              "      <td>0.127208</td>\n",
              "      <td>0.397944</td>\n",
              "      <td>0.511811</td>\n",
              "      <td>0.197605</td>\n",
              "      <td>0.400000</td>\n",
              "      <td>0.6</td>\n",
              "    </tr>\n",
              "  </tbody>\n",
              "</table>\n",
              "<p>1599 rows × 12 columns</p>\n",
              "</div>"
            ],
            "text/plain": [
              "      fixed acidity  volatile acidity  ...   alcohol  quality\n",
              "0          0.247788          0.397260  ...  0.153846      0.4\n",
              "1          0.283186          0.520548  ...  0.215385      0.4\n",
              "2          0.283186          0.438356  ...  0.215385      0.4\n",
              "3          0.584071          0.109589  ...  0.215385      0.6\n",
              "4          0.247788          0.397260  ...  0.153846      0.4\n",
              "...             ...               ...  ...       ...      ...\n",
              "1594       0.141593          0.328767  ...  0.323077      0.4\n",
              "1595       0.115044          0.294521  ...  0.430769      0.6\n",
              "1596       0.150442          0.267123  ...  0.400000      0.6\n",
              "1597       0.115044          0.359589  ...  0.276923      0.4\n",
              "1598       0.123894          0.130137  ...  0.400000      0.6\n",
              "\n",
              "[1599 rows x 12 columns]"
            ]
          },
          "metadata": {
            "tags": []
          },
          "execution_count": 33
        }
      ]
    },
    {
      "cell_type": "code",
      "metadata": {
        "colab": {
          "base_uri": "https://localhost:8080/",
          "height": 351
        },
        "id": "y6AAjqQJgX-v",
        "outputId": "9d71ac93-99f1-4af4-8ed5-33af16d768f3"
      },
      "source": [
        "scaler_df.describe()"
      ],
      "execution_count": null,
      "outputs": [
        {
          "output_type": "execute_result",
          "data": {
            "text/html": [
              "<div>\n",
              "<style scoped>\n",
              "    .dataframe tbody tr th:only-of-type {\n",
              "        vertical-align: middle;\n",
              "    }\n",
              "\n",
              "    .dataframe tbody tr th {\n",
              "        vertical-align: top;\n",
              "    }\n",
              "\n",
              "    .dataframe thead th {\n",
              "        text-align: right;\n",
              "    }\n",
              "</style>\n",
              "<table border=\"1\" class=\"dataframe\">\n",
              "  <thead>\n",
              "    <tr style=\"text-align: right;\">\n",
              "      <th></th>\n",
              "      <th>fixed acidity</th>\n",
              "      <th>volatile acidity</th>\n",
              "      <th>citric acid</th>\n",
              "      <th>residual sugar</th>\n",
              "      <th>chlorides</th>\n",
              "      <th>free sulfur dioxide</th>\n",
              "      <th>total sulfur dioxide</th>\n",
              "      <th>density</th>\n",
              "      <th>pH</th>\n",
              "      <th>sulphates</th>\n",
              "      <th>alcohol</th>\n",
              "      <th>quality</th>\n",
              "    </tr>\n",
              "  </thead>\n",
              "  <tbody>\n",
              "    <tr>\n",
              "      <th>count</th>\n",
              "      <td>1599.000000</td>\n",
              "      <td>1599.000000</td>\n",
              "      <td>1599.000000</td>\n",
              "      <td>1599.000000</td>\n",
              "      <td>1599.000000</td>\n",
              "      <td>1599.000000</td>\n",
              "      <td>1599.000000</td>\n",
              "      <td>1599.000000</td>\n",
              "      <td>1599.000000</td>\n",
              "      <td>1599.000000</td>\n",
              "      <td>1599.000000</td>\n",
              "      <td>1599.000000</td>\n",
              "    </tr>\n",
              "    <tr>\n",
              "      <th>mean</th>\n",
              "      <td>0.329171</td>\n",
              "      <td>0.279329</td>\n",
              "      <td>0.270976</td>\n",
              "      <td>0.112247</td>\n",
              "      <td>0.125988</td>\n",
              "      <td>0.209506</td>\n",
              "      <td>0.142996</td>\n",
              "      <td>0.490211</td>\n",
              "      <td>0.449695</td>\n",
              "      <td>0.196496</td>\n",
              "      <td>0.311228</td>\n",
              "      <td>0.527205</td>\n",
              "    </tr>\n",
              "    <tr>\n",
              "      <th>std</th>\n",
              "      <td>0.154079</td>\n",
              "      <td>0.122644</td>\n",
              "      <td>0.194801</td>\n",
              "      <td>0.096570</td>\n",
              "      <td>0.078573</td>\n",
              "      <td>0.147326</td>\n",
              "      <td>0.116238</td>\n",
              "      <td>0.138571</td>\n",
              "      <td>0.121564</td>\n",
              "      <td>0.101501</td>\n",
              "      <td>0.163949</td>\n",
              "      <td>0.161514</td>\n",
              "    </tr>\n",
              "    <tr>\n",
              "      <th>min</th>\n",
              "      <td>0.000000</td>\n",
              "      <td>0.000000</td>\n",
              "      <td>0.000000</td>\n",
              "      <td>0.000000</td>\n",
              "      <td>0.000000</td>\n",
              "      <td>0.000000</td>\n",
              "      <td>0.000000</td>\n",
              "      <td>0.000000</td>\n",
              "      <td>0.000000</td>\n",
              "      <td>0.000000</td>\n",
              "      <td>0.000000</td>\n",
              "      <td>0.000000</td>\n",
              "    </tr>\n",
              "    <tr>\n",
              "      <th>25%</th>\n",
              "      <td>0.221239</td>\n",
              "      <td>0.184932</td>\n",
              "      <td>0.090000</td>\n",
              "      <td>0.068493</td>\n",
              "      <td>0.096828</td>\n",
              "      <td>0.084507</td>\n",
              "      <td>0.056537</td>\n",
              "      <td>0.406021</td>\n",
              "      <td>0.370079</td>\n",
              "      <td>0.131737</td>\n",
              "      <td>0.169231</td>\n",
              "      <td>0.400000</td>\n",
              "    </tr>\n",
              "    <tr>\n",
              "      <th>50%</th>\n",
              "      <td>0.292035</td>\n",
              "      <td>0.273973</td>\n",
              "      <td>0.260000</td>\n",
              "      <td>0.089041</td>\n",
              "      <td>0.111853</td>\n",
              "      <td>0.183099</td>\n",
              "      <td>0.113074</td>\n",
              "      <td>0.490455</td>\n",
              "      <td>0.448819</td>\n",
              "      <td>0.173653</td>\n",
              "      <td>0.276923</td>\n",
              "      <td>0.600000</td>\n",
              "    </tr>\n",
              "    <tr>\n",
              "      <th>75%</th>\n",
              "      <td>0.407080</td>\n",
              "      <td>0.356164</td>\n",
              "      <td>0.420000</td>\n",
              "      <td>0.116438</td>\n",
              "      <td>0.130217</td>\n",
              "      <td>0.281690</td>\n",
              "      <td>0.197880</td>\n",
              "      <td>0.570117</td>\n",
              "      <td>0.519685</td>\n",
              "      <td>0.239521</td>\n",
              "      <td>0.415385</td>\n",
              "      <td>0.600000</td>\n",
              "    </tr>\n",
              "    <tr>\n",
              "      <th>max</th>\n",
              "      <td>1.000000</td>\n",
              "      <td>1.000000</td>\n",
              "      <td>1.000000</td>\n",
              "      <td>1.000000</td>\n",
              "      <td>1.000000</td>\n",
              "      <td>1.000000</td>\n",
              "      <td>1.000000</td>\n",
              "      <td>1.000000</td>\n",
              "      <td>1.000000</td>\n",
              "      <td>1.000000</td>\n",
              "      <td>1.000000</td>\n",
              "      <td>1.000000</td>\n",
              "    </tr>\n",
              "  </tbody>\n",
              "</table>\n",
              "</div>"
            ],
            "text/plain": [
              "       fixed acidity  volatile acidity  ...      alcohol      quality\n",
              "count    1599.000000       1599.000000  ...  1599.000000  1599.000000\n",
              "mean        0.329171          0.279329  ...     0.311228     0.527205\n",
              "std         0.154079          0.122644  ...     0.163949     0.161514\n",
              "min         0.000000          0.000000  ...     0.000000     0.000000\n",
              "25%         0.221239          0.184932  ...     0.169231     0.400000\n",
              "50%         0.292035          0.273973  ...     0.276923     0.600000\n",
              "75%         0.407080          0.356164  ...     0.415385     0.600000\n",
              "max         1.000000          1.000000  ...     1.000000     1.000000\n",
              "\n",
              "[8 rows x 12 columns]"
            ]
          },
          "metadata": {
            "tags": []
          },
          "execution_count": 34
        }
      ]
    },
    {
      "cell_type": "code",
      "metadata": {
        "colab": {
          "base_uri": "https://localhost:8080/"
        },
        "id": "0UQ2bXVk27wB",
        "outputId": "963d5cd7-019b-4e20-acd8-dbd7024a3deb"
      },
      "source": [
        "scaler_df['fixed acidity'].min()"
      ],
      "execution_count": null,
      "outputs": [
        {
          "output_type": "execute_result",
          "data": {
            "text/plain": [
              "0.0"
            ]
          },
          "metadata": {
            "tags": []
          },
          "execution_count": 35
        }
      ]
    },
    {
      "cell_type": "markdown",
      "metadata": {
        "id": "GUXUcemz2ll8"
      },
      "source": [
        "**Aplique o modelo de normalização MinMaxScaler com os valores \"default\" para os dados de entrada. Qual é o menor valor para a variável \"fixed acidity\"?**\n",
        "\n",
        "R: min é zero"
      ]
    },
    {
      "cell_type": "code",
      "metadata": {
        "id": "6cM7sLjT2fOr"
      },
      "source": [
        "#transforma os dados em array e dividindo entre dados de entrada e saída\n",
        "x = df.iloc[:, :-1].values  #dados de entrada\n",
        "y = df.iloc[:, 11].values  # saídas ou target"
      ],
      "execution_count": null,
      "outputs": []
    },
    {
      "cell_type": "code",
      "metadata": {
        "colab": {
          "base_uri": "https://localhost:8080/"
        },
        "id": "s7APeL3G3ZI6",
        "outputId": "88dfc5d7-714f-4995-a905-022e6d50f2cd"
      },
      "source": [
        "x"
      ],
      "execution_count": null,
      "outputs": [
        {
          "output_type": "execute_result",
          "data": {
            "text/plain": [
              "array([[ 7.4  ,  0.7  ,  0.   , ...,  3.51 ,  0.56 ,  9.4  ],\n",
              "       [ 7.8  ,  0.88 ,  0.   , ...,  3.2  ,  0.68 ,  9.8  ],\n",
              "       [ 7.8  ,  0.76 ,  0.04 , ...,  3.26 ,  0.65 ,  9.8  ],\n",
              "       ...,\n",
              "       [ 6.3  ,  0.51 ,  0.13 , ...,  3.42 ,  0.75 , 11.   ],\n",
              "       [ 5.9  ,  0.645,  0.12 , ...,  3.57 ,  0.71 , 10.2  ],\n",
              "       [ 6.   ,  0.31 ,  0.47 , ...,  3.39 ,  0.66 , 11.   ]])"
            ]
          },
          "metadata": {
            "tags": []
          },
          "execution_count": 47
        }
      ]
    },
    {
      "cell_type": "code",
      "metadata": {
        "colab": {
          "base_uri": "https://localhost:8080/"
        },
        "id": "uVqjLQKl3Z23",
        "outputId": "68bae2ea-0709-421f-b6ba-4545372b8fbb"
      },
      "source": [
        "y"
      ],
      "execution_count": null,
      "outputs": [
        {
          "output_type": "execute_result",
          "data": {
            "text/plain": [
              "array([5, 5, 5, ..., 6, 5, 6])"
            ]
          },
          "metadata": {
            "tags": []
          },
          "execution_count": 48
        }
      ]
    },
    {
      "cell_type": "code",
      "metadata": {
        "id": "APqRiE-53i-X"
      },
      "source": [
        "#realiza a divisão dos dados entre treinamento e teste\n",
        "x_train, x_test, y_train, y_test = train_test_split(x, y, test_size=0.30, random_state=1 )# divide 20% para teste\n",
        "\n",
        "# realiza o processo de normalização dos dados\n",
        "scaler = StandardScaler()  #objeto que normaliza os dados\n",
        "scaler.fit(x_train)  #realiza a normalização dos dados\n",
        "\n",
        "x_train = scaler.transform(x_train)\n",
        "x_test = scaler.transform(x_test)"
      ],
      "execution_count": null,
      "outputs": []
    },
    {
      "cell_type": "markdown",
      "metadata": {
        "id": "Wo7QP8s66ud0"
      },
      "source": [
        "## **Aplicando modelo KNN**"
      ]
    },
    {
      "cell_type": "code",
      "metadata": {
        "colab": {
          "base_uri": "https://localhost:8080/"
        },
        "id": "UCpfIKvt33UO",
        "outputId": "f49b0f64-9cef-4acc-ce06-697caa490994"
      },
      "source": [
        "#treina o modelo \n",
        "classifier_KNN = KNeighborsClassifier(n_neighbors=5) #utiliza a construção por meio de 5 vizinhos\n",
        "classifier_KNN.fit(x_train, y_train) # aplica a classificação"
      ],
      "execution_count": null,
      "outputs": [
        {
          "output_type": "execute_result",
          "data": {
            "text/plain": [
              "KNeighborsClassifier(algorithm='auto', leaf_size=30, metric='minkowski',\n",
              "                     metric_params=None, n_jobs=None, n_neighbors=5, p=2,\n",
              "                     weights='uniform')"
            ]
          },
          "metadata": {
            "tags": []
          },
          "execution_count": 67
        }
      ]
    },
    {
      "cell_type": "code",
      "metadata": {
        "id": "ndvICqAP4ToU"
      },
      "source": [
        "y_pred = classifier_KNN.predict(x_test)"
      ],
      "execution_count": null,
      "outputs": []
    },
    {
      "cell_type": "code",
      "metadata": {
        "colab": {
          "base_uri": "https://localhost:8080/"
        },
        "id": "_PWqgaLo5R0C",
        "outputId": "956fadaa-65f8-4828-db23-0e94fac32d16"
      },
      "source": [
        "#constroi a matriz de confusão para comparar o modelo criado\n",
        "print(classification_report(y_test, y_pred))"
      ],
      "execution_count": null,
      "outputs": [
        {
          "output_type": "stream",
          "text": [
            "              precision    recall  f1-score   support\n",
            "\n",
            "           3       0.00      0.00      0.00         2\n",
            "           4       0.12      0.10      0.11        21\n",
            "           5       0.64      0.69      0.66       207\n",
            "           6       0.64      0.55      0.59       195\n",
            "           7       0.46      0.60      0.52        52\n",
            "           8       0.33      0.33      0.33         3\n",
            "\n",
            "    accuracy                           0.59       480\n",
            "   macro avg       0.37      0.38      0.37       480\n",
            "weighted avg       0.59      0.59      0.59       480\n",
            "\n"
          ],
          "name": "stdout"
        }
      ]
    },
    {
      "cell_type": "code",
      "metadata": {
        "colab": {
          "base_uri": "https://localhost:8080/",
          "height": 279
        },
        "id": "CulQokod5Xoo",
        "outputId": "6992c149-c1f7-4a8f-bf6a-3f20abf00699"
      },
      "source": [
        "#realiza o plot da matriz de confusão\n",
        "matriz_confusao = confusion_matrix(y_test, y_pred)\n",
        "fig, ax = plot_confusion_matrix(conf_mat=matriz_confusao)\n",
        "plt.show()"
      ],
      "execution_count": null,
      "outputs": [
        {
          "output_type": "display_data",
          "data": {
            "image/png": "[encoded data removed]",
            "text/plain": [
              "<Figure size 432x288 with 1 Axes>"
            ]
          },
          "metadata": {
            "tags": [],
            "needs_background": "light"
          }
        }
      ]
    },
    {
      "cell_type": "markdown",
      "metadata": {
        "id": "fX4oHQCP67Wx"
      },
      "source": [
        "**Após dividir o dataset utilizando o método train_test_split(entradas_normalizadas, saida, test_size=0.30, random_state=1). Qual foi a acurácia para o KNN?**\n",
        "\n",
        "R: accuracy foi de 0.57"
      ]
    },
    {
      "cell_type": "markdown",
      "metadata": {
        "id": "lbJa4LkM8OIz"
      },
      "source": [
        "## **Aplicando modelo Árvore de Decisão**"
      ]
    },
    {
      "cell_type": "code",
      "metadata": {
        "id": "Ke5Mb3Lg67Hy"
      },
      "source": [
        "# Cria o objeto de classificação através do \n",
        "classifier_tree = DecisionTreeClassifier()\n",
        "\n",
        "# Realiza o treinamento do classificador\n",
        "classifier_tree = classifier_tree.fit(x_train,y_train)\n",
        "\n",
        "#Realiza a previsão de classificaçao \n",
        "y_pred = classifier_tree.predict(x_test)"
      ],
      "execution_count": null,
      "outputs": []
    },
    {
      "cell_type": "code",
      "metadata": {
        "colab": {
          "base_uri": "https://localhost:8080/",
          "height": 279
        },
        "id": "yTNZDPuZ6VLt",
        "outputId": "34fd588e-2efe-48d2-f1ab-cc8f0eff7e0e"
      },
      "source": [
        "#Avaliando o modelo \n",
        "\n",
        "#realiza o plot da matriz de confusão\n",
        "matriz_confusao = confusion_matrix(y_test, y_pred)\n",
        "\n",
        "fig, ax = plot_confusion_matrix(conf_mat=matriz_confusao)\n",
        "plt.show()"
      ],
      "execution_count": null,
      "outputs": [
        {
          "output_type": "display_data",
          "data": {
            "image/png": "[encoded data removed]",
            "text/plain": [
              "<Figure size 432x288 with 1 Axes>"
            ]
          },
          "metadata": {
            "tags": [],
            "needs_background": "light"
          }
        }
      ]
    },
    {
      "cell_type": "code",
      "metadata": {
        "id": "MJvjgAb09PTJ"
      },
      "source": [
        ""
      ],
      "execution_count": null,
      "outputs": []
    },
    {
      "cell_type": "code",
      "metadata": {
        "colab": {
          "base_uri": "https://localhost:8080/"
        },
        "id": "RA2wIgPJ9UNS",
        "outputId": "8ff9ebc6-6135-4c9c-a588-47e526ad5ae4"
      },
      "source": [
        "y_pred = classifier_tree.predict(x_test)\n",
        "print(classification_report(y_test, y_pred))"
      ],
      "execution_count": null,
      "outputs": [
        {
          "output_type": "stream",
          "text": [
            "              precision    recall  f1-score   support\n",
            "\n",
            "           3       0.00      0.00      0.00         2\n",
            "           4       0.12      0.10      0.11        21\n",
            "           5       0.64      0.69      0.66       207\n",
            "           6       0.64      0.55      0.59       195\n",
            "           7       0.46      0.60      0.52        52\n",
            "           8       0.33      0.33      0.33         3\n",
            "\n",
            "    accuracy                           0.59       480\n",
            "   macro avg       0.37      0.38      0.37       480\n",
            "weighted avg       0.59      0.59      0.59       480\n",
            "\n"
          ],
          "name": "stdout"
        }
      ]
    },
    {
      "cell_type": "code",
      "metadata": {
        "colab": {
          "base_uri": "https://localhost:8080/"
        },
        "id": "qaAU8Aq_9Wn4",
        "outputId": "480efa73-2fca-497e-98d8-e1b6b1f4f919"
      },
      "source": [
        ""
      ],
      "execution_count": null,
      "outputs": [
        {
          "output_type": "stream",
          "text": [
            "              precision    recall  f1-score   support\n",
            "\n",
            "           3       0.00      0.00      0.00         2\n",
            "           4       0.12      0.10      0.11        21\n",
            "           5       0.64      0.69      0.66       207\n",
            "           6       0.64      0.55      0.59       195\n",
            "           7       0.46      0.60      0.52        52\n",
            "           8       0.33      0.33      0.33         3\n",
            "\n",
            "    accuracy                           0.59       480\n",
            "   macro avg       0.37      0.38      0.37       480\n",
            "weighted avg       0.59      0.59      0.59       480\n",
            "\n"
          ],
          "name": "stdout"
        }
      ]
    },
    {
      "cell_type": "markdown",
      "metadata": {
        "id": "NJVK4nqu-CKm"
      },
      "source": [
        ""
      ]
    },
    {
      "cell_type": "markdown",
      "metadata": {
        "id": "SCmIjmqO-EMo"
      },
      "source": [
        "# Aplicando modelo Árvore de Decisão Ramdômica"
      ]
    },
    {
      "cell_type": "code",
      "metadata": {
        "id": "jphTCuvy9W9y"
      },
      "source": [
        "classifier_treeramdom = RandomForestClassifier(max_depth=10, random_state=1)\n",
        "\n",
        "classifier_treeramdom = classifier_treeramdom.fit(x_train,y_train)\n",
        "\n",
        "y_pred = classifier_treeramdom.predict(x_test)"
      ],
      "execution_count": null,
      "outputs": []
    },
    {
      "cell_type": "code",
      "metadata": {
        "colab": {
          "base_uri": "https://localhost:8080/",
          "height": 279
        },
        "id": "rabuS9Qh-aDB",
        "outputId": "ccdc2830-bb48-4892-e1fc-6373636aa88a"
      },
      "source": [
        "#Avaliando o modelo \n",
        "\n",
        "#realiza o plot da matriz de confusão\n",
        "matriz_confusao = confusion_matrix(y_test, y_pred)\n",
        "\n",
        "fig, ax = plot_confusion_matrix(conf_mat=matriz_confusao)\n",
        "plt.show()"
      ],
      "execution_count": null,
      "outputs": [
        {
          "output_type": "display_data",
          "data": {
            "image/png": "[encoded data removed]",
            "text/plain": [
              "<Figure size 432x288 with 1 Axes>"
            ]
          },
          "metadata": {
            "tags": [],
            "needs_background": "light"
          }
        }
      ]
    },
    {
      "cell_type": "code",
      "metadata": {
        "colab": {
          "base_uri": "https://localhost:8080/"
        },
        "id": "OcG6dim8-kYs",
        "outputId": "b7696d30-a5f5-47c7-b665-65da6a9c628c"
      },
      "source": [
        "y_pred = classifier_treeramdom.predict(x_test)\n",
        "print(classification_report(y_test, y_pred))"
      ],
      "execution_count": null,
      "outputs": [
        {
          "output_type": "stream",
          "text": [
            "              precision    recall  f1-score   support\n",
            "\n",
            "           3       0.00      0.00      0.00         2\n",
            "           4       0.00      0.00      0.00        21\n",
            "           5       0.72      0.81      0.76       207\n",
            "           6       0.66      0.70      0.68       195\n",
            "           7       0.59      0.46      0.52        52\n",
            "           8       0.00      0.00      0.00         3\n",
            "\n",
            "    accuracy                           0.68       480\n",
            "   macro avg       0.33      0.33      0.33       480\n",
            "weighted avg       0.64      0.68      0.66       480\n",
            "\n"
          ],
          "name": "stdout"
        },
        {
          "output_type": "stream",
          "text": [
            "/usr/local/lib/python3.7/dist-packages/sklearn/metrics/_classification.py:1272: UndefinedMetricWarning: Precision and F-score are ill-defined and being set to 0.0 in labels with no predicted samples. Use `zero_division` parameter to control this behavior.\n",
            "  _warn_prf(average, modifier, msg_start, len(result))\n"
          ],
          "name": "stderr"
        }
      ]
    },
    {
      "cell_type": "markdown",
      "metadata": {
        "id": "vnaeQpB8_FS7"
      },
      "source": [
        "## **Aplicando o modelo do Algoritmo SVM**"
      ]
    },
    {
      "cell_type": "code",
      "metadata": {
        "id": "ZAw44rAu-yLy"
      },
      "source": [
        "clf_svm = SVC(gamma='auto',kernel='rbf')\n",
        "\n",
        "clf_svm = clf_svm.fit(x_train,y_train)\n",
        "\n",
        "y_pred = clf_svm.predict(x_test)\n",
        "\n"
      ],
      "execution_count": null,
      "outputs": []
    },
    {
      "cell_type": "code",
      "metadata": {
        "colab": {
          "base_uri": "https://localhost:8080/",
          "height": 279
        },
        "id": "iwntFAfC_dau",
        "outputId": "d0f08aea-c660-4d8d-d436-37206e89c3ec"
      },
      "source": [
        "#Avaliando o modelo \n",
        "\n",
        "#realiza o plot da matriz de confusão\n",
        "matriz_confusao = confusion_matrix(y_test, y_pred)\n",
        "\n",
        "fig, ax = plot_confusion_matrix(conf_mat=matriz_confusao)\n",
        "plt.show()"
      ],
      "execution_count": null,
      "outputs": [
        {
          "output_type": "display_data",
          "data": {
            "image/png": "[encoded data removed]",
            "text/plain": [
              "<Figure size 432x288 with 1 Axes>"
            ]
          },
          "metadata": {
            "tags": [],
            "needs_background": "light"
          }
        }
      ]
    },
    {
      "cell_type": "code",
      "metadata": {
        "colab": {
          "base_uri": "https://localhost:8080/"
        },
        "id": "JP_AE5Zd_h7y",
        "outputId": "3f57aa30-7883-4df5-f3c6-c4fd00a83e47"
      },
      "source": [
        "y_pred = clf_svm.predict(x_test)\n",
        "print(classification_report(y_test, y_pred))"
      ],
      "execution_count": null,
      "outputs": [
        {
          "output_type": "stream",
          "text": [
            "              precision    recall  f1-score   support\n",
            "\n",
            "           3       0.00      0.00      0.00         2\n",
            "           4       0.00      0.00      0.00        21\n",
            "           5       0.65      0.78      0.71       207\n",
            "           6       0.58      0.60      0.59       195\n",
            "           7       0.52      0.29      0.37        52\n",
            "           8       0.00      0.00      0.00         3\n",
            "\n",
            "    accuracy                           0.61       480\n",
            "   macro avg       0.29      0.28      0.28       480\n",
            "weighted avg       0.57      0.61      0.58       480\n",
            "\n"
          ],
          "name": "stdout"
        },
        {
          "output_type": "stream",
          "text": [
            "/usr/local/lib/python3.7/dist-packages/sklearn/metrics/_classification.py:1272: UndefinedMetricWarning: Precision and F-score are ill-defined and being set to 0.0 in labels with no predicted samples. Use `zero_division` parameter to control this behavior.\n",
            "  _warn_prf(average, modifier, msg_start, len(result))\n"
          ],
          "name": "stderr"
        }
      ]
    },
    {
      "cell_type": "markdown",
      "metadata": {
        "id": "I0dzZYgHBC3K"
      },
      "source": [
        "# Implementando algoritmo de Rede MLP\n"
      ]
    },
    {
      "cell_type": "code",
      "metadata": {
        "colab": {
          "base_uri": "https://localhost:8080/"
        },
        "id": "AEPChG4H_6K1",
        "outputId": "716ef5cb-0f22-40a8-b861-978cf54ba524"
      },
      "source": [
        "clf_mlp = MLPClassifier( alpha=1e-5, hidden_layer_sizes=(5, 5), random_state=1)\n",
        "\n",
        "clf_mlp = clf_mlp.fit(x_train,y_train)\n",
        "\n",
        "y_pred = clf_mlp.predict(x_test)"
      ],
      "execution_count": null,
      "outputs": [
        {
          "output_type": "stream",
          "text": [
            "/usr/local/lib/python3.7/dist-packages/sklearn/neural_network/_multilayer_perceptron.py:571: ConvergenceWarning: Stochastic Optimizer: Maximum iterations (200) reached and the optimization hasn't converged yet.\n",
            "  % self.max_iter, ConvergenceWarning)\n"
          ],
          "name": "stderr"
        }
      ]
    },
    {
      "cell_type": "code",
      "metadata": {
        "colab": {
          "base_uri": "https://localhost:8080/",
          "height": 279
        },
        "id": "A_DVhV0iO5qd",
        "outputId": "d1bdc935-f564-4924-f28c-c2ff060acb6d"
      },
      "source": [
        "#Avaliando o modelo \n",
        "\n",
        "#realiza o plot da matriz de confusão\n",
        "matriz_confusao = confusion_matrix(y_test, y_pred)\n",
        "\n",
        "fig, ax = plot_confusion_matrix(conf_mat=matriz_confusao)\n",
        "plt.show()"
      ],
      "execution_count": null,
      "outputs": [
        {
          "output_type": "display_data",
          "data": {
            "image/png": "[encoded data removed]",
            "text/plain": [
              "<Figure size 432x288 with 1 Axes>"
            ]
          },
          "metadata": {
            "tags": [],
            "needs_background": "light"
          }
        }
      ]
    },
    {
      "cell_type": "code",
      "metadata": {
        "colab": {
          "base_uri": "https://localhost:8080/"
        },
        "id": "nexkFNVaPE6A",
        "outputId": "cd060c9a-a712-474d-b777-8f178bdea7a8"
      },
      "source": [
        "y_pred = clf_svm.predict(x_test)\n",
        "print(classification_report(y_test, y_pred))"
      ],
      "execution_count": null,
      "outputs": [
        {
          "output_type": "stream",
          "text": [
            "              precision    recall  f1-score   support\n",
            "\n",
            "           3       0.00      0.00      0.00         2\n",
            "           4       0.00      0.00      0.00        21\n",
            "           5       0.65      0.78      0.71       207\n",
            "           6       0.58      0.60      0.59       195\n",
            "           7       0.52      0.29      0.37        52\n",
            "           8       0.00      0.00      0.00         3\n",
            "\n",
            "    accuracy                           0.61       480\n",
            "   macro avg       0.29      0.28      0.28       480\n",
            "weighted avg       0.57      0.61      0.58       480\n",
            "\n"
          ],
          "name": "stdout"
        },
        {
          "output_type": "stream",
          "text": [
            "/usr/local/lib/python3.7/dist-packages/sklearn/metrics/_classification.py:1272: UndefinedMetricWarning: Precision and F-score are ill-defined and being set to 0.0 in labels with no predicted samples. Use `zero_division` parameter to control this behavior.\n",
            "  _warn_prf(average, modifier, msg_start, len(result))\n"
          ],
          "name": "stderr"
        }
      ]
    },
    {
      "cell_type": "code",
      "metadata": {
        "colab": {
          "base_uri": "https://localhost:8080/",
          "height": 221
        },
        "id": "ZhxJeoAzSC4w",
        "outputId": "720587bc-aec0-4913-a39a-da6f69a4d73d"
      },
      "source": [
        "df2 = df\n",
        "df2.head()"
      ],
      "execution_count": null,
      "outputs": [
        {
          "output_type": "execute_result",
          "data": {
            "text/html": [
              "<div>\n",
              "<style scoped>\n",
              "    .dataframe tbody tr th:only-of-type {\n",
              "        vertical-align: middle;\n",
              "    }\n",
              "\n",
              "    .dataframe tbody tr th {\n",
              "        vertical-align: top;\n",
              "    }\n",
              "\n",
              "    .dataframe thead th {\n",
              "        text-align: right;\n",
              "    }\n",
              "</style>\n",
              "<table border=\"1\" class=\"dataframe\">\n",
              "  <thead>\n",
              "    <tr style=\"text-align: right;\">\n",
              "      <th></th>\n",
              "      <th>fixed acidity</th>\n",
              "      <th>volatile acidity</th>\n",
              "      <th>citric acid</th>\n",
              "      <th>residual sugar</th>\n",
              "      <th>chlorides</th>\n",
              "      <th>free sulfur dioxide</th>\n",
              "      <th>total sulfur dioxide</th>\n",
              "      <th>density</th>\n",
              "      <th>pH</th>\n",
              "      <th>sulphates</th>\n",
              "      <th>alcohol</th>\n",
              "      <th>quality</th>\n",
              "    </tr>\n",
              "  </thead>\n",
              "  <tbody>\n",
              "    <tr>\n",
              "      <th>0</th>\n",
              "      <td>7.4</td>\n",
              "      <td>0.70</td>\n",
              "      <td>0.00</td>\n",
              "      <td>1.9</td>\n",
              "      <td>0.076</td>\n",
              "      <td>11.0</td>\n",
              "      <td>34.0</td>\n",
              "      <td>0.9978</td>\n",
              "      <td>3.51</td>\n",
              "      <td>0.56</td>\n",
              "      <td>9.4</td>\n",
              "      <td>5</td>\n",
              "    </tr>\n",
              "    <tr>\n",
              "      <th>1</th>\n",
              "      <td>7.8</td>\n",
              "      <td>0.88</td>\n",
              "      <td>0.00</td>\n",
              "      <td>2.6</td>\n",
              "      <td>0.098</td>\n",
              "      <td>25.0</td>\n",
              "      <td>67.0</td>\n",
              "      <td>0.9968</td>\n",
              "      <td>3.20</td>\n",
              "      <td>0.68</td>\n",
              "      <td>9.8</td>\n",
              "      <td>5</td>\n",
              "    </tr>\n",
              "    <tr>\n",
              "      <th>2</th>\n",
              "      <td>7.8</td>\n",
              "      <td>0.76</td>\n",
              "      <td>0.04</td>\n",
              "      <td>2.3</td>\n",
              "      <td>0.092</td>\n",
              "      <td>15.0</td>\n",
              "      <td>54.0</td>\n",
              "      <td>0.9970</td>\n",
              "      <td>3.26</td>\n",
              "      <td>0.65</td>\n",
              "      <td>9.8</td>\n",
              "      <td>5</td>\n",
              "    </tr>\n",
              "    <tr>\n",
              "      <th>3</th>\n",
              "      <td>11.2</td>\n",
              "      <td>0.28</td>\n",
              "      <td>0.56</td>\n",
              "      <td>1.9</td>\n",
              "      <td>0.075</td>\n",
              "      <td>17.0</td>\n",
              "      <td>60.0</td>\n",
              "      <td>0.9980</td>\n",
              "      <td>3.16</td>\n",
              "      <td>0.58</td>\n",
              "      <td>9.8</td>\n",
              "      <td>6</td>\n",
              "    </tr>\n",
              "    <tr>\n",
              "      <th>4</th>\n",
              "      <td>7.4</td>\n",
              "      <td>0.70</td>\n",
              "      <td>0.00</td>\n",
              "      <td>1.9</td>\n",
              "      <td>0.076</td>\n",
              "      <td>11.0</td>\n",
              "      <td>34.0</td>\n",
              "      <td>0.9978</td>\n",
              "      <td>3.51</td>\n",
              "      <td>0.56</td>\n",
              "      <td>9.4</td>\n",
              "      <td>5</td>\n",
              "    </tr>\n",
              "  </tbody>\n",
              "</table>\n",
              "</div>"
            ],
            "text/plain": [
              "   fixed acidity  volatile acidity  citric acid  ...  sulphates  alcohol  quality\n",
              "0            7.4              0.70         0.00  ...       0.56      9.4        5\n",
              "1            7.8              0.88         0.00  ...       0.68      9.8        5\n",
              "2            7.8              0.76         0.04  ...       0.65      9.8        5\n",
              "3           11.2              0.28         0.56  ...       0.58      9.8        6\n",
              "4            7.4              0.70         0.00  ...       0.56      9.4        5\n",
              "\n",
              "[5 rows x 12 columns]"
            ]
          },
          "metadata": {
            "tags": []
          },
          "execution_count": 96
        }
      ]
    },
    {
      "cell_type": "code",
      "metadata": {
        "id": "tlTKw6NASBVq"
      },
      "source": [
        "df2['quality']  = df2['quality'].apply(lambda x: 1 if x > 5 else 0 )\n"
      ],
      "execution_count": null,
      "outputs": []
    },
    {
      "cell_type": "code",
      "metadata": {
        "colab": {
          "base_uri": "https://localhost:8080/",
          "height": 221
        },
        "id": "uprz31x7SUUR",
        "outputId": "b94238d9-c359-43ec-eea0-99eb1d2458f7"
      },
      "source": [
        "df2.head()"
      ],
      "execution_count": null,
      "outputs": [
        {
          "output_type": "execute_result",
          "data": {
            "text/html": [
              "<div>\n",
              "<style scoped>\n",
              "    .dataframe tbody tr th:only-of-type {\n",
              "        vertical-align: middle;\n",
              "    }\n",
              "\n",
              "    .dataframe tbody tr th {\n",
              "        vertical-align: top;\n",
              "    }\n",
              "\n",
              "    .dataframe thead th {\n",
              "        text-align: right;\n",
              "    }\n",
              "</style>\n",
              "<table border=\"1\" class=\"dataframe\">\n",
              "  <thead>\n",
              "    <tr style=\"text-align: right;\">\n",
              "      <th></th>\n",
              "      <th>fixed acidity</th>\n",
              "      <th>volatile acidity</th>\n",
              "      <th>citric acid</th>\n",
              "      <th>residual sugar</th>\n",
              "      <th>chlorides</th>\n",
              "      <th>free sulfur dioxide</th>\n",
              "      <th>total sulfur dioxide</th>\n",
              "      <th>density</th>\n",
              "      <th>pH</th>\n",
              "      <th>sulphates</th>\n",
              "      <th>alcohol</th>\n",
              "      <th>quality</th>\n",
              "    </tr>\n",
              "  </thead>\n",
              "  <tbody>\n",
              "    <tr>\n",
              "      <th>0</th>\n",
              "      <td>7.4</td>\n",
              "      <td>0.70</td>\n",
              "      <td>0.00</td>\n",
              "      <td>1.9</td>\n",
              "      <td>0.076</td>\n",
              "      <td>11.0</td>\n",
              "      <td>34.0</td>\n",
              "      <td>0.9978</td>\n",
              "      <td>3.51</td>\n",
              "      <td>0.56</td>\n",
              "      <td>9.4</td>\n",
              "      <td>0</td>\n",
              "    </tr>\n",
              "    <tr>\n",
              "      <th>1</th>\n",
              "      <td>7.8</td>\n",
              "      <td>0.88</td>\n",
              "      <td>0.00</td>\n",
              "      <td>2.6</td>\n",
              "      <td>0.098</td>\n",
              "      <td>25.0</td>\n",
              "      <td>67.0</td>\n",
              "      <td>0.9968</td>\n",
              "      <td>3.20</td>\n",
              "      <td>0.68</td>\n",
              "      <td>9.8</td>\n",
              "      <td>0</td>\n",
              "    </tr>\n",
              "    <tr>\n",
              "      <th>2</th>\n",
              "      <td>7.8</td>\n",
              "      <td>0.76</td>\n",
              "      <td>0.04</td>\n",
              "      <td>2.3</td>\n",
              "      <td>0.092</td>\n",
              "      <td>15.0</td>\n",
              "      <td>54.0</td>\n",
              "      <td>0.9970</td>\n",
              "      <td>3.26</td>\n",
              "      <td>0.65</td>\n",
              "      <td>9.8</td>\n",
              "      <td>0</td>\n",
              "    </tr>\n",
              "    <tr>\n",
              "      <th>3</th>\n",
              "      <td>11.2</td>\n",
              "      <td>0.28</td>\n",
              "      <td>0.56</td>\n",
              "      <td>1.9</td>\n",
              "      <td>0.075</td>\n",
              "      <td>17.0</td>\n",
              "      <td>60.0</td>\n",
              "      <td>0.9980</td>\n",
              "      <td>3.16</td>\n",
              "      <td>0.58</td>\n",
              "      <td>9.8</td>\n",
              "      <td>1</td>\n",
              "    </tr>\n",
              "    <tr>\n",
              "      <th>4</th>\n",
              "      <td>7.4</td>\n",
              "      <td>0.70</td>\n",
              "      <td>0.00</td>\n",
              "      <td>1.9</td>\n",
              "      <td>0.076</td>\n",
              "      <td>11.0</td>\n",
              "      <td>34.0</td>\n",
              "      <td>0.9978</td>\n",
              "      <td>3.51</td>\n",
              "      <td>0.56</td>\n",
              "      <td>9.4</td>\n",
              "      <td>0</td>\n",
              "    </tr>\n",
              "  </tbody>\n",
              "</table>\n",
              "</div>"
            ],
            "text/plain": [
              "   fixed acidity  volatile acidity  citric acid  ...  sulphates  alcohol  quality\n",
              "0            7.4              0.70         0.00  ...       0.56      9.4        0\n",
              "1            7.8              0.88         0.00  ...       0.68      9.8        0\n",
              "2            7.8              0.76         0.04  ...       0.65      9.8        0\n",
              "3           11.2              0.28         0.56  ...       0.58      9.8        1\n",
              "4            7.4              0.70         0.00  ...       0.56      9.4        0\n",
              "\n",
              "[5 rows x 12 columns]"
            ]
          },
          "metadata": {
            "tags": []
          },
          "execution_count": 98
        }
      ]
    },
    {
      "cell_type": "code",
      "metadata": {
        "id": "JtVm7A-tSVyN"
      },
      "source": [
        "#transforma os dados em array e dividindo entre dados de entrada e saída\n",
        "x = df2.iloc[:, :-1].values  #dados de entrada\n",
        "y = df2.iloc[:, 11].values  # saídas ou target\n",
        "\n",
        "#realiza a divisão dos dados entre treinamento e teste\n",
        "x_train, x_test, y_train, y_test = train_test_split(x, y, test_size=0.30, random_state=1 )# divide 20% para teste\n",
        "\n",
        "# realiza o processo de normalização dos dados\n",
        "scaler = StandardScaler()  #objeto que normaliza os dados\n",
        "scaler.fit(x_train)  #realiza a normalização dos dados\n",
        "\n",
        "x_train = scaler.transform(x_train)\n",
        "x_test = scaler.transform(x_test)"
      ],
      "execution_count": null,
      "outputs": []
    },
    {
      "cell_type": "code",
      "metadata": {
        "id": "IWucCzu8TE0c"
      },
      "source": [
        "#Aplicando o modelo Random Forest\n",
        "classifier_treeramdom = RandomForestClassifier(max_depth=10, random_state=1)\n",
        "\n",
        "classifier_treeramdom = classifier_treeramdom.fit(x_train,y_train)\n",
        "\n",
        "y_pred = classifier_treeramdom.predict(x_test)"
      ],
      "execution_count": null,
      "outputs": []
    },
    {
      "cell_type": "code",
      "metadata": {
        "colab": {
          "base_uri": "https://localhost:8080/",
          "height": 432
        },
        "id": "LczEXIklTEtx",
        "outputId": "60863ca0-c584-42d4-d12f-eb8fdf569798"
      },
      "source": [
        "#Avaliando o modelo \n",
        "\n",
        "#realiza o plot da matriz de confusão\n",
        "matriz_confusao = confusion_matrix(y_test, y_pred)\n",
        "\n",
        "fig, ax = plot_confusion_matrix(conf_mat=matriz_confusao)\n",
        "plt.show()\n",
        "\n",
        "y_pred = classifier_treeramdom.predict(x_test)\n",
        "print(classification_report(y_test, y_pred))"
      ],
      "execution_count": null,
      "outputs": [
        {
          "output_type": "display_data",
          "data": {
            "image/png": "[encoded data removed]",
            "text/plain": [
              "<Figure size 432x288 with 1 Axes>"
            ]
          },
          "metadata": {
            "tags": [],
            "needs_background": "light"
          }
        },
        {
          "output_type": "stream",
          "text": [
            "              precision    recall  f1-score   support\n",
            "\n",
            "           0       0.79      0.81      0.80       230\n",
            "           1       0.82      0.80      0.81       250\n",
            "\n",
            "    accuracy                           0.80       480\n",
            "   macro avg       0.80      0.80      0.80       480\n",
            "weighted avg       0.80      0.80      0.80       480\n",
            "\n"
          ],
          "name": "stdout"
        }
      ]
    },
    {
      "cell_type": "code",
      "metadata": {
        "id": "pHhn31BfTEpQ"
      },
      "source": [
        ""
      ],
      "execution_count": null,
      "outputs": []
    },
    {
      "cell_type": "code",
      "metadata": {
        "id": "vyJqUSA-TElK"
      },
      "source": [
        ""
      ],
      "execution_count": null,
      "outputs": []
    }
  ]
}